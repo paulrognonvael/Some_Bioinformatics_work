{
  "nbformat": 4,
  "nbformat_minor": 0,
  "metadata": {
    "colab": {
      "name": "Paralllel Random Forest.ipynb",
      "provenance": [],
      "collapsed_sections": [],
      "authorship_tag": "ABX9TyPT2TAxgiKYPsW906Pl6P+U",
      "include_colab_link": true
    },
    "kernelspec": {
      "name": "ir",
      "display_name": "R"
    }
  },
  "cells": [
    {
      "cell_type": "markdown",
      "metadata": {
        "id": "view-in-github",
        "colab_type": "text"
      },
      "source": [
        "<a href=\"https://colab.research.google.com/github/polrgn/Bioinformatics-OMICS/blob/master/Paralllel_Random_Forest.ipynb\" target=\"_parent\"><img src=\"https://colab.research.google.com/assets/colab-badge.svg\" alt=\"Open In Colab\"/></a>"
      ]
    },
    {
      "cell_type": "code",
      "metadata": {
        "id": "wZztQ0OzO5iK",
        "colab_type": "code",
        "outputId": "46bd5c58-582f-4049-c7cc-614e9d164c0e",
        "colab": {
          "base_uri": "https://localhost:8080/",
          "height": 1000
        }
      },
      "source": [
        "#if(!require(\"knitr\")) install.packages(\"knitr\")\n",
        "if(!require(\"tree\")) install.packages(\"tree\")\n",
        "if(!require(\"readr\")) install.packages(\"readr\")\n",
        "#if(!require(\"knitr\")) install.packages(\"knitr\")\n",
        "if(!require(\"caret\")) install.packages(\"caret\")\n",
        "#if(!require(\"gridExtra\")) install.packages(\"gridExtra\")\n",
        "if(!require(\"randomForest\")) install.packages(\"randomForest\")\n",
        "if(!require(\"foreach\")) install.packages(\"foreach\")\n",
        "if(!require(\"e1071\")) install.packages(\"e1071\")\n",
        "if(!require(\"furrr\")) install.packages(\"furrr\")\n",
        "if(!require(\"parallel\")) install.packages(\"parellel\")\n",
        "if(!require(\"doParallel\")) install.packages(\"doParallel\")\n",
        "\n",
        "\n"
      ],
      "execution_count": 1,
      "outputs": [
        {
          "output_type": "stream",
          "text": [
            "Loading required package: tree\n",
            "\n",
            "Warning message in library(package, lib.loc = lib.loc, character.only = TRUE, logical.return = TRUE, :\n",
            "“there is no package called ‘tree’”\n",
            "Installing package into ‘/usr/local/lib/R/site-library’\n",
            "(as ‘lib’ is unspecified)\n",
            "\n",
            "Loading required package: readr\n",
            "\n",
            "Loading required package: caret\n",
            "\n",
            "Warning message in library(package, lib.loc = lib.loc, character.only = TRUE, logical.return = TRUE, :\n",
            "“there is no package called ‘caret’”\n",
            "Installing package into ‘/usr/local/lib/R/site-library’\n",
            "(as ‘lib’ is unspecified)\n",
            "\n",
            "also installing the dependencies ‘numDeriv’, ‘SQUAREM’, ‘lava’, ‘prodlim’, ‘iterators’, ‘data.table’, ‘gower’, ‘ipred’, ‘timeDate’, ‘foreach’, ‘ModelMetrics’, ‘recipes’, ‘pROC’\n",
            "\n",
            "\n",
            "Loading required package: randomForest\n",
            "\n",
            "Warning message in library(package, lib.loc = lib.loc, character.only = TRUE, logical.return = TRUE, :\n",
            "“there is no package called ‘randomForest’”\n",
            "Installing package into ‘/usr/local/lib/R/site-library’\n",
            "(as ‘lib’ is unspecified)\n",
            "\n",
            "Loading required package: foreach\n",
            "\n",
            "Loading required package: e1071\n",
            "\n",
            "Warning message in library(package, lib.loc = lib.loc, character.only = TRUE, logical.return = TRUE, :\n",
            "“there is no package called ‘e1071’”\n",
            "Installing package into ‘/usr/local/lib/R/site-library’\n",
            "(as ‘lib’ is unspecified)\n",
            "\n",
            "Loading required package: furrr\n",
            "\n",
            "Warning message in library(package, lib.loc = lib.loc, character.only = TRUE, logical.return = TRUE, :\n",
            "“there is no package called ‘furrr’”\n",
            "Installing package into ‘/usr/local/lib/R/site-library’\n",
            "(as ‘lib’ is unspecified)\n",
            "\n",
            "also installing the dependencies ‘listenv’, ‘future’, ‘globals’\n",
            "\n",
            "\n",
            "Loading required package: parallel\n",
            "\n",
            "Loading required package: doParallel\n",
            "\n",
            "Warning message in library(package, lib.loc = lib.loc, character.only = TRUE, logical.return = TRUE, :\n",
            "“there is no package called ‘doParallel’”\n",
            "Installing package into ‘/usr/local/lib/R/site-library’\n",
            "(as ‘lib’ is unspecified)\n",
            "\n"
          ],
          "name": "stderr"
        }
      ]
    },
    {
      "cell_type": "code",
      "metadata": {
        "id": "X-q2wm2mlJZN",
        "colab_type": "code",
        "outputId": "63b70cd9-4a83-49fe-b0da-1d78440edd43",
        "colab": {
          "base_uri": "https://localhost:8080/",
          "height": 932
        }
      },
      "source": [
        "require(\"readr\")\n",
        "require(\"tidyverse\")\n",
        "#require(\"knitr\")\n",
        "require(\"tree\")\n",
        "require(\"caret\")\n",
        "#require(\"gridExtra\")\n",
        "require(\"furrr\")\n",
        "require(\"parallel\")\n",
        "require(\"doParallel\")\n"
      ],
      "execution_count": 2,
      "outputs": [
        {
          "output_type": "stream",
          "text": [
            "Loading required package: tidyverse\n",
            "\n",
            "── \u001b[1mAttaching packages\u001b[22m ─────────────────────────────────────── tidyverse 1.3.0 ──\n",
            "\n",
            "\u001b[32m✔\u001b[39m \u001b[34mggplot2\u001b[39m 3.3.0     \u001b[32m✔\u001b[39m \u001b[34mdplyr  \u001b[39m 0.8.5\n",
            "\u001b[32m✔\u001b[39m \u001b[34mtibble \u001b[39m 3.0.0     \u001b[32m✔\u001b[39m \u001b[34mstringr\u001b[39m 1.4.0\n",
            "\u001b[32m✔\u001b[39m \u001b[34mtidyr  \u001b[39m 1.0.2     \u001b[32m✔\u001b[39m \u001b[34mforcats\u001b[39m 0.5.0\n",
            "\u001b[32m✔\u001b[39m \u001b[34mpurrr  \u001b[39m 0.3.3     \n",
            "\n",
            "── \u001b[1mConflicts\u001b[22m ────────────────────────────────────────── tidyverse_conflicts() ──\n",
            "\u001b[31m✖\u001b[39m \u001b[34mpurrr\u001b[39m::\u001b[32maccumulate()\u001b[39m masks \u001b[34mforeach\u001b[39m::accumulate()\n",
            "\u001b[31m✖\u001b[39m \u001b[34mdplyr\u001b[39m::\u001b[32mfilter()\u001b[39m     masks \u001b[34mstats\u001b[39m::filter()\n",
            "\u001b[31m✖\u001b[39m \u001b[34mdplyr\u001b[39m::\u001b[32mlag()\u001b[39m        masks \u001b[34mstats\u001b[39m::lag()\n",
            "\u001b[31m✖\u001b[39m \u001b[34mpurrr\u001b[39m::\u001b[32mwhen()\u001b[39m       masks \u001b[34mforeach\u001b[39m::when()\n",
            "\n",
            "Loading required package: tree\n",
            "\n",
            "Registered S3 method overwritten by 'tree':\n",
            "  method     from\n",
            "  print.tree cli \n",
            "\n",
            "Loading required package: caret\n",
            "\n",
            "Loading required package: lattice\n",
            "\n",
            "\n",
            "Attaching package: ‘caret’\n",
            "\n",
            "\n",
            "The following object is masked from ‘package:purrr’:\n",
            "\n",
            "    lift\n",
            "\n",
            "\n",
            "Loading required package: furrr\n",
            "\n",
            "Loading required package: future\n",
            "\n",
            "\n",
            "Attaching package: ‘future’\n",
            "\n",
            "\n",
            "The following object is masked from ‘package:caret’:\n",
            "\n",
            "    cluster\n",
            "\n",
            "\n",
            "Loading required package: doParallel\n",
            "\n",
            "Loading required package: iterators\n",
            "\n"
          ],
          "name": "stderr"
        }
      ]
    },
    {
      "cell_type": "code",
      "metadata": {
        "id": "bBDSIfnNPfVL",
        "colab_type": "code",
        "outputId": "fe1efce2-454d-49c1-d8e0-445702ba3541",
        "colab": {
          "base_uri": "https://localhost:8080/",
          "height": 143
        }
      },
      "source": [
        "# data parsing\n",
        "soldat <- read_csv(\"soldat.csv\")\n",
        "soldat$y <- factor(soldat$y,levels = c(-1,1),labels = c(\"insoluble\",\"soluble\"))\n",
        "n <- nrow(soldat)\n",
        "p <- ncol(soldat)"
      ],
      "execution_count": 3,
      "outputs": [
        {
          "output_type": "stream",
          "text": [
            "Parsed with column specification:\n",
            "cols(\n",
            "  .default = col_double()\n",
            ")\n",
            "\n",
            "See spec(...) for full column specifications.\n",
            "\n"
          ],
          "name": "stderr"
        }
      ]
    },
    {
      "cell_type": "code",
      "metadata": {
        "id": "HROq48FZk9Bl",
        "colab_type": "code",
        "colab": {}
      },
      "source": [
        "cluster <- makeCluster(detectCores() - 1) # convention to leave 1 core for OS\n",
        "registerDoParallel(cluster)"
      ],
      "execution_count": 0,
      "outputs": []
    },
    {
      "cell_type": "code",
      "metadata": {
        "id": "-aSvCPLEPjVI",
        "colab_type": "code",
        "colab": {}
      },
      "source": [
        "v <- cor(soldat %>% select(-y), use = \"pairwise.complete.obs\")\n",
        "high_corr <- colnames(soldat)[findCorrelation(v, cutoff = 0.95)]\n",
        "soldat <- soldat %>% select(-all_of(high_corr))"
      ],
      "execution_count": 0,
      "outputs": []
    },
    {
      "cell_type": "code",
      "metadata": {
        "id": "k9XkfkmkPufF",
        "colab_type": "code",
        "colab": {}
      },
      "source": [
        "set.seed(1234)\n",
        "inTest <- createDataPartition(soldat$y,p = 0.5, list = FALSE)[,1]\n",
        "test <- soldat[inTest,]\n",
        "training <- soldat[-inTest,]"
      ],
      "execution_count": 0,
      "outputs": []
    },
    {
      "cell_type": "code",
      "metadata": {
        "id": "MpEkoVcyYOJU",
        "colab_type": "code",
        "colab": {}
      },
      "source": [
        "control <- trainControl(method = \"repeatedcv\", \n",
        "                        number = 5, \n",
        "                        repeats = 3,\n",
        "                        search=\"grid\",\n",
        "                        classProbs = TRUE,\n",
        "                        allowParallel = TRUE,\n",
        "                        summaryFunction = twoClassSummary)\n",
        "metric <- \"ROC\"\n",
        "tunegrid <- expand.grid(mtry=seq(2,12,2))\n",
        "rf_models <- list()"
      ],
      "execution_count": 0,
      "outputs": []
    },
    {
      "cell_type": "code",
      "metadata": {
        "id": "Zoxa0gPdcbbl",
        "colab_type": "code",
        "outputId": "62a5a88e-6dfc-4f8b-9d08-c0dd13134ead",
        "colab": {
          "base_uri": "https://localhost:8080/",
          "height": 35
        }
      },
      "source": [
        "i <- 1\n",
        "for (ntree in c(1000,1500,2000,2500)) {\n",
        "  cat(paste0(\"Training with \", ntree, \" trees ...\"))\n",
        "  rf_models[[i]] <- train(y ~ ., \n",
        "                                            data = training, \n",
        "                                            method = \"rf\", \n",
        "                                            metric = metric, \n",
        "                                            tuneGrid = tunegrid, \n",
        "                                            trControl = control, \n",
        "                                            ntree = ntree)\n",
        "  i <- i+1\n",
        "}\n",
        "save(rf_models,file=\"rf_models.Rdata\")"
      ],
      "execution_count": 8,
      "outputs": [
        {
          "output_type": "stream",
          "text": [
            "Training with 1000 trees ...Training with 1500 trees ...Training with 2000 trees ...Training with 2500 trees ..."
          ],
          "name": "stdout"
        }
      ]
    },
    {
      "cell_type": "code",
      "metadata": {
        "id": "Oh66y0MHae0b",
        "colab_type": "code",
        "outputId": "a9f01372-b981-4833-8029-a0c3a6c0404d",
        "colab": {
          "base_uri": "https://localhost:8080/",
          "height": 394
        }
      },
      "source": [
        "print(rf_models[[3]])\n",
        "#1:51"
      ],
      "execution_count": 9,
      "outputs": [
        {
          "output_type": "stream",
          "text": [
            "Random Forest \n",
            "\n",
            "2815 samples\n",
            "  46 predictor\n",
            "   2 classes: 'insoluble', 'soluble' \n",
            "\n",
            "No pre-processing\n",
            "Resampling: Cross-Validated (5 fold, repeated 3 times) \n",
            "Summary of sample sizes: 2252, 2251, 2253, 2252, 2252, 2252, ... \n",
            "Resampling results across tuning parameters:\n",
            "\n",
            "  mtry  ROC        Sens       Spec     \n",
            "   2    0.8555577  0.8992021  0.5961827\n",
            "   4    0.8549506  0.8890812  0.6083366\n",
            "   6    0.8549799  0.8858360  0.6127068\n",
            "   8    0.8541103  0.8823992  0.6152078\n",
            "  10    0.8541658  0.8820183  0.6201995\n",
            "  12    0.8535858  0.8795366  0.6208269\n",
            "\n",
            "ROC was used to select the optimal model using the largest value.\n",
            "The final value used for the model was mtry = 2.\n"
          ],
          "name": "stdout"
        }
      ]
    }
  ]
}